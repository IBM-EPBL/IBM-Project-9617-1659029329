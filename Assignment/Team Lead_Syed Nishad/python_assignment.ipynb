{
  "metadata": {
    "language_info": {
      "codemirror_mode": {
        "name": "python",
        "version": 3
      },
      "file_extension": ".py",
      "mimetype": "text/x-python",
      "name": "python",
      "nbconvert_exporter": "python",
      "pygments_lexer": "ipython3",
      "version": "3.8"
    },
    "kernelspec": {
      "name": "python",
      "display_name": "Python (Pyodide)",
      "language": "python"
    }
  },
  "nbformat_minor": 4,
  "nbformat": 4,
  "cells": [
    {
      "cell_type": "code",
      "source": "write a python program to test a given number is prime or not\n",
      "metadata": {},
      "execution_count": null,
      "outputs": []
    },
    {
      "cell_type": "code",
      "source": "num = 13\nif num > 1:\n   for i in range(2,num):\n       if (num % i) == 0:\n           print(num,\"is not a prime number\")\n           print(i,\"times\",num//i,\"is\",num)\n           break\n       else:\n           print(num,\"is a prime number\")\n           break\nelse:\n   print(num,\"is not a prime number\")\n",
      "metadata": {
        "trusted": true
      },
      "execution_count": 4,
      "outputs": [
        {
          "name": "stdout",
          "text": "13 is a prime number\n",
          "output_type": "stream"
        }
      ]
    },
    {
      "cell_type": "code",
      "source": "write a python program to generate odd numbers from m to n using while loop",
      "metadata": {},
      "execution_count": null,
      "outputs": []
    },
    {
      "cell_type": "code",
      "source": "m = 3\nn = 20\nwhile m <= n:\n    if(m % 2 != 0):\n        print(\"{0}\".format(m))\n    m = m + 1",
      "metadata": {
        "trusted": true
      },
      "execution_count": 6,
      "outputs": [
        {
          "name": "stdout",
          "text": "3\n5\n7\n9\n11\n13\n15\n17\n19\n",
          "output_type": "stream"
        }
      ]
    },
    {
      "cell_type": "code",
      "source": "write a python program to display prime number series upto given number",
      "metadata": {},
      "execution_count": null,
      "outputs": []
    },
    {
      "cell_type": "code",
      "source": "m = 2\nn = 30\nfor i in range(m,n + 1):\n   if i > 1:\n       for j in range(2,i):\n           if (i % j) == 0:\n               break\n       else:\n           print(i)",
      "metadata": {
        "trusted": true
      },
      "execution_count": 7,
      "outputs": [
        {
          "name": "stdout",
          "text": "2\n3\n5\n7\n11\n13\n17\n19\n23\n29\n",
          "output_type": "stream"
        }
      ]
    },
    {
      "cell_type": "code",
      "source": "write a python program to generate a fibonacci series",
      "metadata": {},
      "execution_count": null,
      "outputs": []
    },
    {
      "cell_type": "code",
      "source": "no_of_terms = 10  \nfirst_no = 3 \nsecond_no = 2  \ncount = 0   \nif no_of_terms <= 0:  \n    print (\"Please enter a positive integer, the given number is not valid\")  \nelif no_of_terms == 1:  \n    print (\"The Fibonacci sequence of the numbers up to\", no_of_terms, \": \")  \n    print(first_no)  \nelse:  \n    print (\"The fibonacci sequence of the numbers is:\")  \n    while count < no_of_terms:  \n        print(first_no)  \n        nth = first_no + second_no \n        first_no = second_no  \n        second_no = nth  \n        count += 1",
      "metadata": {
        "trusted": true
      },
      "execution_count": 8,
      "outputs": [
        {
          "name": "stdout",
          "text": "The fibonacci sequence of the numbers is:\n3\n2\n5\n7\n12\n19\n31\n50\n81\n131\n",
          "output_type": "stream"
        }
      ]
    },
    {
      "cell_type": "code",
      "source": "",
      "metadata": {},
      "execution_count": null,
      "outputs": []
    }
  ]
}